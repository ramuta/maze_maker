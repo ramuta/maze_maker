{
 "cells": [
  {
   "cell_type": "code",
   "execution_count": 11,
   "metadata": {},
   "outputs": [],
   "source": [
    "import numpy as np\n",
    "from maze_maker import Maze, manhattan_distance\n",
    "from maze_search import depth_first_search, breadth_first_search, get_path, astar"
   ]
  },
  {
   "cell_type": "code",
   "execution_count": 6,
   "metadata": {},
   "outputs": [],
   "source": [
    "dfs_path_length = []\n",
    "bfs_path_length = []\n",
    "astar_path_length = []\n",
    "\n",
    "dfs_search_space = []\n",
    "bfs_search_space = []\n",
    "astar_search_space = []\n",
    "\n",
    "no_path = 0\n",
    "\n",
    "for i in range(1000):\n",
    "    m = Maze()\n",
    "    distance = manhattan_distance(m.finish)\n",
    "    dfs_final, dfs_search = depth_first_search(m.start, m.finish_line, m.frontier)\n",
    "    if dfs_final is None:\n",
    "        no_path += 1\n",
    "        continue\n",
    "    #dfs\n",
    "    dfs_path_length.append(len(dfs_final))\n",
    "    dfs_search_space.append(len(dfs_search))\n",
    "    #astar\n",
    "    astar_path, astar_search = astar(m.start, m.finish_line, m.frontier, distance)\n",
    "    astar_path_length.append(len(astar_path))\n",
    "    astar_search_space.append(len(astar_search))\n",
    "    #bfs\n",
    "    bfs_path, bfs_search = breadth_first_search(m.start, m.finish_line, m.frontier)\n",
    "    bfs_path_length.append(len(bfs_path))\n",
    "    bfs_search_space.append(len(bfs_search))"
   ]
  },
  {
   "cell_type": "code",
   "execution_count": 19,
   "metadata": {},
   "outputs": [
    {
     "name": "stdout",
     "output_type": "stream",
     "text": [
      "Avg DFS path:  18.614485981308412\n",
      "Avg BFS path:  17.05607476635514\n",
      "Avg A* path:  17.05607476635514\n",
      "\n",
      "Avg DFS search:  22.309579439252335\n",
      "Avg BFS search:  77.0338785046729\n",
      "Avg A* search:  51.24415887850467\n",
      "\n",
      "% with no solution & 20% walls:  0.144\n"
     ]
    }
   ],
   "source": [
    "print('Avg DFS path: ', np.mean(dfs_path_length))\n",
    "print('Avg BFS path: ', np.mean(bfs_path_length))\n",
    "print('Avg A* path: ', np.mean(astar_path_length))\n",
    "\n",
    "print('\\nAvg DFS search: ', np.mean(dfs_search_space))\n",
    "print('Avg BFS search: ', np.mean(bfs_search_space))\n",
    "print('Avg A* search: ', np.mean(astar_search_space))\n",
    "\n",
    "print('\\n% with no solution & 20% walls: ', no_path / 1000)"
   ]
  }
 ],
 "metadata": {
  "kernelspec": {
   "display_name": "titles",
   "language": "python",
   "name": "titles"
  },
  "language_info": {
   "codemirror_mode": {
    "name": "ipython",
    "version": 3
   },
   "file_extension": ".py",
   "mimetype": "text/x-python",
   "name": "python",
   "nbconvert_exporter": "python",
   "pygments_lexer": "ipython3",
   "version": "3.7.3"
  }
 },
 "nbformat": 4,
 "nbformat_minor": 2
}
